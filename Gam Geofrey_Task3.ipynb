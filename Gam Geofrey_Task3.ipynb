{
  "cells": [
    {
      "cell_type": "markdown",
      "metadata": {
        "id": "0fGtlgdO2BYc"
      },
      "source": [
        "## **Task 3 to be Submitted before Monday 3rd March 11:59pm**"
      ]
    },
    {
      "cell_type": "markdown",
      "metadata": {
        "id": "Y9ojScii2CJ0"
      },
      "source": [
        "### Question 1.\n",
        "\n",
        " A. Create a class `Employee` with the following attributes:  \n",
        "   - `name`  \n",
        "   - `email`  \n",
        "   - `salary`  \n",
        "\n",
        " B. Implement a method `validate_email()` using **regex** to check if the email is valid (format: `example@domain.com`).  \n",
        "C. Implement a method `save_to_file()` to save the employee's details to a file (`employees.txt`).  \n",
        "D. Handle exceptions for:  \n",
        "   - **Invalid email format**  \n",
        "   - **File writing errors**  \n",
        "\n",
        " E. Allow the user to enter multiple employees and save them to the file.  \n",
        "\n"
      ]
    },
    {
      "cell_type": "code",
      "execution_count": 4,
      "metadata": {
        "id": "ACbOzU_m24bH"
      },
      "outputs": [
        {
          "name": "stdout",
          "output_type": "stream",
          "text": [
            "invalid email format\n",
            "am Gam, i recieve 5000frs per month. Email: gam@gmail.com\n",
            "<__main__.Employee object at 0x000001E2443201A0>\n",
            "Trait_Task3.txt\n",
            "file does not exist\n"
          ]
        }
      ],
      "source": [
        "import re\n",
        "class Employee:\n",
        "    def __init__(self,name,salary,email):\n",
        "        self.name=name\n",
        "        self.salary=salary\n",
        "        self.email=email\n",
        "        print(f\"am {self.name}, i recieve {salary}frs per month. Email: {email}\")\n",
        "    def addemail(self,email):\n",
        "        self.emial.append(email)\n",
        "    def displayemail(self):\n",
        "        print(\"{self.email}\")                    \n",
        "email=r\"^[a-z][0-9]*[@gmail.com]+&\"   \n",
        "if re.fullmatch(email,\"gam@gmail.com\"):\n",
        "    print(\"content valid\") \n",
        "else:\n",
        "    print(\"invalid email format\") \n",
        "employee1=Employee(\"Gam\",5000,\"gam@gmail.com\")\n",
        "print(employee1) \n",
        "\n",
        "\n",
        "Traitz_Task3=input(\"Enter a file name: \")\n",
        "if Traitz_Task3.endswith(\".txt\"):\n",
        "    print(Traitz_Task3)\n",
        "else:\n",
        "    print(\"File must end with txt\") \n",
        "try:      \n",
        "    names=open(\"Traitz_Task3\",\"r\")  \n",
        "    file=names.read()\n",
        "    print(file)\n",
        "except FileNotFoundError:   \n",
        "    print(\"file does not exist\")   \n",
        "\n",
        "\n",
        "             \n",
        "\n",
        " \n",
        "        \n"
      ]
    },
    {
      "cell_type": "markdown",
      "metadata": {
        "id": "KW95LhCE25I4"
      },
      "source": [
        "\n",
        "\n",
        "### Question2. \n",
        "\n",
        "**Create a `Person` class** with:  \n",
        "   - Attributes:  \n",
        "     - name   \n",
        "     - password   \n",
        "   - A method `validate_password()` that uses **regex** to check if the password is valid.  \n",
        "     - The password must be **at least 8 characters long**, contain **at least one uppercase letter**, **one lowercase letter**, and **one digit**.  \n",
        "     - If invalid, raise an exception.  \n",
        "\n",
        "2. **Create a `Librarian` class that inherits from `Person`**  \n",
        "   - Additional attribute:  \n",
        "     - `staff_id` (string)  \n",
        "   - A method `add_book(title, author, file_name=\"books.txt\")` that writes book details (`title` and `author`) to a text file.  \n",
        "   - Use **exception handling** to check if the file operation is successful.  \n",
        "\n",
        "3. **Create a `Member` class that inherits from `Person`**  \n",
        "   - Additional attribute:  \n",
        "     - `member_id` (string)  \n",
        "   - A method `borrow_book(title, file_name=\"books.txt\")` that:  \n",
        "     - Reads the `books.txt` file and checks if the book is available.  \n",
        "     - If the book is found, print `\"<name> borrowed '<title>'\"` and remove it from the file.  \n",
        "     - If the book is not found, raise an exception.  \n",
        "\n",
        "4. **Handle exceptions** for:  \n",
        "   - **Invalid password format** when creating `Person` objects.  \n",
        "   - **File errors** (e.g., book file not found or empty).  \n",
        "\n",
        "5. **Create instances of `Librarian` and `Member`**, add books, and borrow books to test the system.  \n",
        "\n"
      ]
    },
    {
      "cell_type": "code",
      "execution_count": 44,
      "metadata": {},
      "outputs": [
        {
          "name": "stdout",
          "output_type": "stream",
          "text": [
            "valid\n",
            "Gam, Gam19965\n"
          ]
        },
        {
          "ename": "TypeError",
          "evalue": "Liberian.__init__() takes 2 positional arguments but 3 were given",
          "output_type": "error",
          "traceback": [
            "\u001b[1;31m---------------------------------------------------------------------------\u001b[0m",
            "\u001b[1;31mTypeError\u001b[0m                                 Traceback (most recent call last)",
            "Cell \u001b[1;32mIn[44], line 30\u001b[0m\n\u001b[0;32m     28\u001b[0m     \u001b[38;5;28;01mdef\u001b[39;00m\u001b[38;5;250m \u001b[39m\u001b[38;5;21mdisplaybooks\u001b[39m(\u001b[38;5;28mself\u001b[39m):\n\u001b[0;32m     29\u001b[0m          \u001b[38;5;28mprint\u001b[39m(\u001b[38;5;124mf\u001b[39m\u001b[38;5;124m\"\u001b[39m\u001b[38;5;124mbook title: \u001b[39m\u001b[38;5;132;01m{\u001b[39;00m\u001b[38;5;28mself\u001b[39m\u001b[38;5;241m.\u001b[39mtitle\u001b[38;5;132;01m}\u001b[39;00m\u001b[38;5;124m, author: \u001b[39m\u001b[38;5;132;01m{\u001b[39;00m\u001b[38;5;28mself\u001b[39m\u001b[38;5;241m.\u001b[39mauthor\u001b[38;5;132;01m}\u001b[39;00m\u001b[38;5;124m\"\u001b[39m) \n\u001b[1;32m---> 30\u001b[0m c2\u001b[38;5;241m=\u001b[39m\u001b[43mLiberian\u001b[49m\u001b[43m(\u001b[49m\u001b[38;5;124;43m\"\u001b[39;49m\u001b[38;5;124;43mgam\u001b[39;49m\u001b[38;5;124;43m\"\u001b[39;49m\u001b[43m,\u001b[49m\u001b[38;5;124;43m\"\u001b[39;49m\u001b[38;5;124;43mNon19965\u001b[39;49m\u001b[38;5;124;43m\"\u001b[39;49m\u001b[43m)\u001b[49m\n\u001b[0;32m     31\u001b[0m c2\u001b[38;5;241m.\u001b[39mvalidate_password()\n\u001b[0;32m     32\u001b[0m c3\u001b[38;5;241m=\u001b[39maddBooks(\u001b[38;5;124m\"\u001b[39m\u001b[38;5;124mAcross the mongolo\u001b[39m\u001b[38;5;124m\"\u001b[39m,\u001b[38;5;124m\"\u001b[39m\u001b[38;5;124mAdemola\u001b[39m\u001b[38;5;124m\"\u001b[39m)\n",
            "\u001b[1;31mTypeError\u001b[0m: Liberian.__init__() takes 2 positional arguments but 3 were given"
          ]
        }
      ],
      "source": [
        "\n",
        "import re\n",
        "class Person:\n",
        "        def __init__(self,name,password):\n",
        "            self.name=name\n",
        "            self.password=password\n",
        "        def validate_password(self):\n",
        "            pattern1=r\".{8,}\"   \n",
        "            pattern2=r\"[a-z]\"  \n",
        "            pattern3=r\"[A-Z]\" \n",
        "            pattern4=r\"[0-9]\"   \n",
        "            if re.search(pattern1,self.password) and re.search(pattern2, self.password)  and re.search(pattern3,self.password) and re.search(pattern4, self.password):\n",
        "                print(\"valid\")\n",
        "            else:\n",
        "                print(\"invalid\") \n",
        "            print(f\"{self.name}, {self.password}\")              \n",
        "c1=Person(\"Gam\",\"Gam19965\")\n",
        "    \n",
        "c1.validate_password()\n",
        "class Liberian(Person):\n",
        "    \n",
        "    def __init__(self,id):\n",
        "        self.id = id\n",
        "        self.addBooks=[]\n",
        "        print(f\"{id}\")\n",
        "        #Person.__init__(self,name,password)\n",
        "    def addBooks(self,title,author):\n",
        "        self.Books.append(self.Books)\n",
        "    def displaybooks(self):\n",
        "         print(f\"book title: {self.title}, author: {self.author}\") \n",
        "c2=Liberian(\"gam\",\"Non19965\")\n",
        "c2.validate_password()\n",
        "c3=addBooks(\"Across the mongolo\",\"Ademola\")\n",
        "c3.displyBooks()\n",
        "  \n",
        "                    \n",
        "\n",
        "            \n",
        "      "
      ]
    },
    {
      "cell_type": "markdown",
      "metadata": {},
      "source": [
        "### Question 3. \n",
        "\n",
        "##### Exercise1.(Regex)\n",
        "Come up with regular expressions to verify the following strings.\n",
        "\n",
        "**1)** Dates of the format DD/MM/YYYY. Note that dates can not be more than 30/12/9999. For educational purposes, you won't be required to verify the actual number of days for specific months say for example. Sep 2026 has 30 days, Feb 2026 has 28 days as so on, and we won't shock for this. Let you regex refuse any day greater than the 31st of a month. Try out with the following dates. \n",
        "* **i)** 24/02/3078 -> Valid\n",
        "* **ii)** 41/03/2025 -> Not valid\n",
        "\n",
        "**2)** Cameroonian phone numbers are of the format +237 6xx xxx xxx. Come up with a regular expression that checks the validity of a number inputed by a user. \n",
        "Your python script should make use of functions. Test your Function with the following numbers to see if it's correct.\n",
        "* **a)** +236 679 678 875 -> Not Valid\n",
        "* **b)** +237 653 532 228 -> Valid\n",
        "* **c)** +237 670 059 101 -> Valid\n",
        "* **d)** *237 677 657 471 -> Not Valid"
      ]
    },
    {
      "cell_type": "code",
      "execution_count": 2,
      "metadata": {
        "id": "nDADaCVF4on9"
      },
      "outputs": [
        {
          "name": "stdout",
          "output_type": "stream",
          "text": [
            "content valid\n",
            "content valid\n"
          ]
        }
      ],
      "source": [
        "import re\n",
        "Date=r\"^[0-9]{2}/+[0-9]{2}/+[0-9]{4}$\"\n",
        "if re.search(Date,\"23/06/2020\"):\n",
        "    print(\"content valid\")\n",
        "else:\n",
        "    print(\"invalid\") \n",
        "number=r\"^[+237-]+[6]+[0-9]{8}$\"   \n",
        "if re.search(number,\"+237-653532228\"):\n",
        "    print(\"content valid\")\n",
        "else:\n",
        "    print(\"invalid\")     "
      ]
    }
  ],
  "metadata": {
    "colab": {
      "provenance": []
    },
    "kernelspec": {
      "display_name": "Python 3",
      "name": "python3"
    },
    "language_info": {
      "codemirror_mode": {
        "name": "ipython",
        "version": 3
      },
      "file_extension": ".py",
      "mimetype": "text/x-python",
      "name": "python",
      "nbconvert_exporter": "python",
      "pygments_lexer": "ipython3",
      "version": "3.13.2"
    }
  },
  "nbformat": 4,
  "nbformat_minor": 0
}
