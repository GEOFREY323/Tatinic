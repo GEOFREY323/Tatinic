{
  "cells": [
    {
      "cell_type": "markdown",
      "metadata": {
        "id": "oPsK-2LuV0Id"
      },
      "source": [
        "# **Task 4**\n",
        "\n",
        "Deadline: Wednesday at 11:59pm"
      ]
    },
    {
      "cell_type": "markdown",
      "metadata": {
        "id": "HLEXBuARX5Ac"
      },
      "source": [
        "1. **Data Exploration**\n",
        " * How many employees are in the dataset?\n",
        " * How many missing values exist in each column?\n",
        " * What are the unique job titles and departments?\n",
        " * Identify duplicate employee records and remove them.\n",
        "\n",
        "2. **Data Cleaning**\n",
        " * Convert salaries from text to numeric (e.g., \"$50,000\" → 50000).\n",
        " * Standardize job titles (fix inconsistencies like “manager” vs. “Manager”) change everything to start with uppercase.\n",
        " * Fill missing values in performance scores using median or mean.\n",
        " * Detect and remove outliers in salary (any salaries too high/low?).\n",
        " * Convert date columns (e.g., \"01-12-2023\" as string → datetime format).\n",
        "\n",
        "3. **Analysis**\n",
        " * What is the average salary of employees?\n",
        " * Which department has the highest average salary?\n",
        " * Which department has the lowest performance scores?\n",
        " * Which job title has the highest average salary?\n",
        "\n",
        "4. **Department-Level Insights**\n",
        " * Which department has the most employees?\n",
        " * What is the salary distribution across departments?\n",
        " * Identify departments with the most missing data."
      ]
    },
    {
      "cell_type": "code",
      "execution_count": 1,
      "metadata": {
        "id": "lpO9ZIBIYzYQ"
      },
      "outputs": [
        {
          "name": "stdout",
          "output_type": "stream",
          "text": [
            "     Employee_ID          Name        Department    Job_Title     Salary  \\\n",
            "0        EMP1000    Employee_0         Marketing      Analyst        NaN   \n",
            "1        EMP1001    Employee_1         Marketing  Coordinator   $70,000    \n",
            "2        EMP1002    Employee_2  Customer Support      Manager        NaN   \n",
            "3        EMP1003    Employee_3           Finance   Specialist        NaN   \n",
            "4        EMP1004    Employee_4             Sales      Analyst  $150,000    \n",
            "...          ...           ...               ...          ...        ...   \n",
            "1015     EMP1899  Employee_899  Customer Support     engineer  $120,000    \n",
            "1016     EMP1280  Employee_280  Customer Support     engineer  $120,000    \n",
            "1017     EMP1883  Employee_883       Engineering  coordinator        NaN   \n",
            "1018     EMP1761  Employee_761           Finance      analyst   $50,000    \n",
            "1019     EMP1319  Employee_319         Marketing   specialist   $50,000    \n",
            "\n",
            "      Experience_Years  Performance_Score   Join_Date  \n",
            "0                  NaN                3.0   3/30/2018  \n",
            "1                  5.0                3.0         NaN  \n",
            "2                 15.0                1.0   6/25/2019  \n",
            "3                 20.0                5.0  01/10/2020  \n",
            "4                 15.0                1.0  01/10/2020  \n",
            "...                ...                ...         ...  \n",
            "1015               3.0                NaN   3/30/2018  \n",
            "1016               1.0                NaN         NaN  \n",
            "1017               NaN                4.0   3/30/2018  \n",
            "1018              15.0                5.0   9/15/2021  \n",
            "1019               NaN                5.0   3/30/2018  \n",
            "\n",
            "[1020 rows x 8 columns]\n"
          ]
        }
      ],
      "source": [
        "import pandas as pd\n",
        "data=pd.read_csv('employee_performance_dataset.csv')\n",
        "print(data)"
      ]
    },
    {
      "cell_type": "code",
      "execution_count": 2,
      "metadata": {},
      "outputs": [
        {
          "name": "stdout",
          "output_type": "stream",
          "text": [
            "number of employees are: 1000\n"
          ]
        }
      ],
      "source": [
        "name=\"Employee_ID\"\n",
        "num_Employee=len(data[\"Employee_ID\"].unique())\n",
        "print(f\"number of employees are: {num_Employee}\")"
      ]
    },
    {
      "cell_type": "code",
      "execution_count": 3,
      "metadata": {},
      "outputs": [
        {
          "name": "stdout",
          "output_type": "stream",
          "text": [
            "Employee_ID            0\n",
            "Name                   0\n",
            "Department             0\n",
            "Job_Title              0\n",
            "Salary               123\n",
            "Experience_Years     136\n",
            "Performance_Score    162\n",
            "Join_Date            157\n",
            "dtype: int64\n"
          ]
        }
      ],
      "source": [
        "missing_values=data.isnull().sum()\n",
        "print(missing_values)"
      ]
    },
    {
      "cell_type": "code",
      "execution_count": 4,
      "metadata": {},
      "outputs": [
        {
          "name": "stdout",
          "output_type": "stream",
          "text": [
            "Unique Job Title: ['Analyst' 'Coordinator' 'Manager' 'Specialist' 'Executive' 'Engineer'\n",
            " 'coordinator' 'specialist' 'manager' 'analyst' 'engineer' 'executive']\n",
            "Unique department: ['Marketing' 'Customer Support' 'Finance' 'Sales' 'Engineering' 'HR']\n"
          ]
        }
      ],
      "source": [
        "title=data['Job_Title'].unique()\n",
        "print(f\"Unique Job Title: {title}\")\n",
        "department=data['Department'].unique()\n",
        "print(f\"Unique department: {department}\")\n"
      ]
    },
    {
      "cell_type": "code",
      "execution_count": 5,
      "metadata": {},
      "outputs": [
        {
          "name": "stdout",
          "output_type": "stream",
          "text": [
            "     Employee_ID          Name        Department    Job_Title     Salary  \\\n",
            "0        EMP1000    Employee_0         Marketing      Analyst        NaN   \n",
            "1        EMP1001    Employee_1         Marketing  Coordinator   $70,000    \n",
            "2        EMP1002    Employee_2  Customer Support      Manager        NaN   \n",
            "3        EMP1003    Employee_3           Finance   Specialist        NaN   \n",
            "4        EMP1004    Employee_4             Sales      Analyst  $150,000    \n",
            "...          ...           ...               ...          ...        ...   \n",
            "996      EMP1996  Employee_996             Sales    Executive  $120,000    \n",
            "997      EMP1997  Employee_997       Engineering      Manager  $120,000    \n",
            "998      EMP1998  Employee_998             Sales   specialist   $60,000    \n",
            "999      EMP1999  Employee_999       Engineering      Manager   $45,000    \n",
            "1013     EMP1973  Employee_973  Customer Support  coordinator  $150,000    \n",
            "\n",
            "      Experience_Years  Performance_Score   Join_Date  \n",
            "0                  NaN                3.0   3/30/2018  \n",
            "1                  5.0                3.0         NaN  \n",
            "2                 15.0                1.0   6/25/2019  \n",
            "3                 20.0                5.0  01/10/2020  \n",
            "4                 15.0                1.0  01/10/2020  \n",
            "...                ...                ...         ...  \n",
            "996               20.0                1.0         NaN  \n",
            "997                NaN                5.0         NaN  \n",
            "998                5.0                2.0   7/20/2017  \n",
            "999               10.0                NaN         NaN  \n",
            "1013              10.0                1.0  01/10/2020  \n",
            "\n",
            "[1001 rows x 8 columns]\n"
          ]
        }
      ],
      "source": [
        "data.duplicated()\n",
        "data=data.drop_duplicates()\n",
        "print(data)\n",
        "\n"
      ]
    },
    {
      "cell_type": "code",
      "execution_count": 8,
      "metadata": {},
      "outputs": [
        {
          "data": {
            "text/plain": [
              "0            NaN\n",
              "1        70000.0\n",
              "2            NaN\n",
              "3            NaN\n",
              "4       150000.0\n",
              "          ...   \n",
              "996     120000.0\n",
              "997     120000.0\n",
              "998      60000.0\n",
              "999      45000.0\n",
              "1013    150000.0\n",
              "Name: Salary, Length: 1001, dtype: float64"
            ]
          },
          "execution_count": 8,
          "metadata": {},
          "output_type": "execute_result"
        }
      ],
      "source": [
        "# data['Salary']=data['Salary'].str.replace(\"$\",\"\").str.replace(\",\",\"\")\n",
        "data['Salary'] = data['Salary'].replace(regex=True, to_replace=r\"\\D\", value=\"\")\n",
        "data['Salary'] = pd.to_numeric(data['Salary'])\n",
        "data['Salary']"
      ]
    },
    {
      "cell_type": "code",
      "execution_count": null,
      "metadata": {},
      "outputs": [
        {
          "data": {
            "text/plain": [
              "0           Analyst\n",
              "1       Coordinator\n",
              "2           Manager\n",
              "3        Specialist\n",
              "4           Analyst\n",
              "           ...     \n",
              "996       Executive\n",
              "997         Manager\n",
              "998      Specialist\n",
              "999         Manager\n",
              "1013    Coordinator\n",
              "Name: Job_Title, Length: 1001, dtype: object"
            ]
          },
          "execution_count": 7,
          "metadata": {},
          "output_type": "execute_result"
        }
      ],
      "source": [
        "data['Job_Title']=data['Job_Title'].str.title()\n",
        "data['Job_Title']"
      ]
    },
    {
      "cell_type": "code",
      "execution_count": null,
      "metadata": {},
      "outputs": [
        {
          "name": "stdout",
          "output_type": "stream",
          "text": [
            "2.9785969084423307\n",
            "     Employee_ID          Name        Department    Job_Title   Salary  \\\n",
            "0        EMP1000    Employee_0         Marketing      Analyst      NaN   \n",
            "1        EMP1001    Employee_1         Marketing  Coordinator   70000    \n",
            "2        EMP1002    Employee_2  Customer Support      Manager      NaN   \n",
            "3        EMP1003    Employee_3           Finance   Specialist      NaN   \n",
            "4        EMP1004    Employee_4             Sales      Analyst  150000    \n",
            "...          ...           ...               ...          ...      ...   \n",
            "996      EMP1996  Employee_996             Sales    Executive  120000    \n",
            "997      EMP1997  Employee_997       Engineering      Manager  120000    \n",
            "998      EMP1998  Employee_998             Sales   Specialist   60000    \n",
            "999      EMP1999  Employee_999       Engineering      Manager   45000    \n",
            "1013     EMP1973  Employee_973  Customer Support  Coordinator  150000    \n",
            "\n",
            "      Experience_Years  Performance_Score   Join_Date  \n",
            "0                  NaN           3.000000   3/30/2018  \n",
            "1                  5.0           3.000000         NaN  \n",
            "2                 15.0           1.000000   6/25/2019  \n",
            "3                 20.0           5.000000  01/10/2020  \n",
            "4                 15.0           1.000000  01/10/2020  \n",
            "...                ...                ...         ...  \n",
            "996               20.0           1.000000         NaN  \n",
            "997                NaN           5.000000         NaN  \n",
            "998                5.0           2.000000   7/20/2017  \n",
            "999               10.0           2.978597         NaN  \n",
            "1013              10.0           1.000000  01/10/2020  \n",
            "\n",
            "[1001 rows x 8 columns]\n"
          ]
        },
        {
          "name": "stderr",
          "output_type": "stream",
          "text": [
            "C:\\Users\\GAM GEOFREY\\AppData\\Local\\Temp\\ipykernel_2132\\307066000.py:3: FutureWarning: A value is trying to be set on a copy of a DataFrame or Series through chained assignment using an inplace method.\n",
            "The behavior will change in pandas 3.0. This inplace method will never work because the intermediate object on which we are setting values always behaves as a copy.\n",
            "\n",
            "For example, when doing 'df[col].method(value, inplace=True)', try using 'df.method({col: value}, inplace=True)' or df[col] = df[col].method(value) instead, to perform the operation inplace on the original object.\n",
            "\n",
            "\n",
            "  data['Performance_Score'].fillna(mean,inplace=True)\n"
          ]
        }
      ],
      "source": [
        "mean=data['Performance_Score'].mean()\n",
        "print(mean)\n",
        "data['Performance_Score'].fillna(mean,inplace=True)\n",
        "print(data)"
      ]
    },
    {
      "cell_type": "code",
      "execution_count": 9,
      "metadata": {},
      "outputs": [
        {
          "name": "stdout",
          "output_type": "stream",
          "text": [
            "     Employee_ID          Name        Department    Job_Title    Salary  \\\n",
            "1        EMP1001    Employee_1         Marketing  Coordinator   70000.0   \n",
            "4        EMP1004    Employee_4             Sales      Analyst  150000.0   \n",
            "5        EMP1005    Employee_5         Marketing    Executive   50000.0   \n",
            "7        EMP1007    Employee_7       Engineering   Specialist   45000.0   \n",
            "8        EMP1008    Employee_8         Marketing     Engineer   50000.0   \n",
            "...          ...           ...               ...          ...       ...   \n",
            "996      EMP1996  Employee_996             Sales    Executive  120000.0   \n",
            "997      EMP1997  Employee_997       Engineering      Manager  120000.0   \n",
            "998      EMP1998  Employee_998             Sales   specialist   60000.0   \n",
            "999      EMP1999  Employee_999       Engineering      Manager   45000.0   \n",
            "1013     EMP1973  Employee_973  Customer Support  coordinator  150000.0   \n",
            "\n",
            "      Experience_Years  Performance_Score   Join_Date  \n",
            "1                  5.0                3.0         NaN  \n",
            "4                 15.0                1.0  01/10/2020  \n",
            "5                  3.0                2.0   7/20/2017  \n",
            "7                  1.0                3.0   3/30/2018  \n",
            "8                 10.0                1.0         NaN  \n",
            "...                ...                ...         ...  \n",
            "996               20.0                1.0         NaN  \n",
            "997                NaN                5.0         NaN  \n",
            "998                5.0                2.0   7/20/2017  \n",
            "999               10.0                NaN         NaN  \n",
            "1013              10.0                1.0  01/10/2020  \n",
            "\n",
            "[830 rows x 8 columns]\n"
          ]
        }
      ],
      "source": [
        "Q1=data['Salary'].quantile(0.25)\n",
        "Q3=data['Salary'].quantile(0.75)\n",
        "IQR=Q3-Q1\n",
        "Too_low=Q1-1.5*IQR\n",
        "Too_high=Q3-1.5*IQR\n",
        "data=data[(data['Salary']>=Too_low) & (data['Salary']>=Too_high)]\n",
        "print(data)  \n",
        "\n"
      ]
    },
    {
      "cell_type": "code",
      "execution_count": null,
      "metadata": {},
      "outputs": [
        {
          "data": {
            "text/plain": [
              "0      2018-03-30\n",
              "1             NaT\n",
              "2      2019-06-25\n",
              "3      2020-01-10\n",
              "4      2020-01-10\n",
              "          ...    \n",
              "996           NaT\n",
              "997           NaT\n",
              "998    2017-07-20\n",
              "999           NaT\n",
              "1013   2020-01-10\n",
              "Name: Join_Date, Length: 1001, dtype: datetime64[ns]"
            ]
          },
          "execution_count": 65,
          "metadata": {},
          "output_type": "execute_result"
        }
      ],
      "source": [
        "data['Join_Date']=pd.to_datetime(data['Join_Date'], format='mixed')\n",
        "data['Join_Date']"
      ]
    },
    {
      "cell_type": "code",
      "execution_count": 10,
      "metadata": {},
      "outputs": [
        {
          "name": "stdout",
          "output_type": "stream",
          "text": [
            "82054.21686746988\n"
          ]
        }
      ],
      "source": [
        "Average_data=data['Salary'].mean()\n",
        "print(Average_data)\n"
      ]
    },
    {
      "cell_type": "code",
      "execution_count": 11,
      "metadata": {},
      "outputs": [
        {
          "name": "stdout",
          "output_type": "stream",
          "text": [
            "Customer Support\n"
          ]
        }
      ],
      "source": [
        "highest_dept=data.groupby('Department')['Salary'].mean().idxmax()\n",
        "print(highest_dept)\n"
      ]
    },
    {
      "cell_type": "code",
      "execution_count": null,
      "metadata": {},
      "outputs": [
        {
          "name": "stdout",
          "output_type": "stream",
          "text": [
            "Customer Support\n"
          ]
        }
      ],
      "source": [
        "lowest_dept=data.groupby('Department')['Performance_Score'].mean().idxmin()\n",
        "print(lowest_dept)"
      ]
    },
    {
      "cell_type": "code",
      "execution_count": 12,
      "metadata": {},
      "outputs": [
        {
          "name": "stdout",
          "output_type": "stream",
          "text": [
            "coordinator\n"
          ]
        }
      ],
      "source": [
        "highest_job_title=data.groupby('Job_Title')['Salary'].mean().idxmax()\n",
        "print(f\"{highest_job_title}\")"
      ]
    },
    {
      "cell_type": "code",
      "execution_count": null,
      "metadata": {},
      "outputs": [
        {
          "name": "stdout",
          "output_type": "stream",
          "text": [
            "Customer Support\n"
          ]
        }
      ],
      "source": [
        "most_employees_dept= data['Department'].value_counts().idxmax()\n",
        "print(f\"{most_employees_dept}\")"
      ]
    },
    {
      "cell_type": "code",
      "execution_count": 13,
      "metadata": {},
      "outputs": [
        {
          "data": {
            "image/png": "[encoded data removed]",
            "text/plain": [
              "<Figure size 640x480 with 1 Axes>"
            ]
          },
          "metadata": {},
          "output_type": "display_data"
        }
      ],
      "source": [
        "import matplotlib.pyplot as plt\n",
        "data.groupby('Department')['Salary'].mean().plot(kind='bar')\n",
        "plt.title('Average Salary By Department')\n",
        "plt.xlabel('Department')\n",
        "plt.ylabel('Average Salary')\n",
        "plt.show()"
      ]
    },
    {
      "cell_type": "code",
      "execution_count": null,
      "metadata": {},
      "outputs": [
        {
          "name": "stdout",
          "output_type": "stream",
          "text": [
            "Performance_Score\n"
          ]
        }
      ],
      "source": [
        "data=pd.read_csv('employee_performance_dataset.csv')\n",
        "print(data.isnull().sum().idxmax())"
      ]
    }
  ],
  "metadata": {
    "colab": {
      "provenance": []
    },
    "kernelspec": {
      "display_name": "Python 3",
      "name": "python3"
    },
    "language_info": {
      "codemirror_mode": {
        "name": "ipython",
        "version": 3
      },
      "file_extension": ".py",
      "mimetype": "text/x-python",
      "name": "python",
      "nbconvert_exporter": "python",
      "pygments_lexer": "ipython3",
      "version": "3.13.2"
    }
  },
  "nbformat": 4,
  "nbformat_minor": 0
}
