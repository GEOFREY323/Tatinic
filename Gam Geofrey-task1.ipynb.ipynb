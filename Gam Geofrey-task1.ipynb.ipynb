{
  "cells": [
    {
      "cell_type": "markdown",
      "metadata": {
        "id": "sG0VBeVoVMoM"
      },
      "source": [
        "1. Given two integer numbers, write a Python code to return their product only if the product is equal to or lower than 1000. Otherwise, return their sum."
      ]
    },
    {
      "cell_type": "code",
      "execution_count": 23,
      "metadata": {
        "id": "LIv1hucQVTXN"
      },
      "outputs": [
        {
          "name": "stdout",
          "output_type": "stream",
          "text": [
            "product must be less than a equal to 1000\n"
          ]
        }
      ],
      "source": [
        "a=int(input('imput a numer for a'))\n",
        "b=int(input('input a number for b'))\n",
        "product=(a*b)\n",
        "if product<=1000:\n",
        " print(product)\n",
        "else:\n",
        " print('product must be less than a equal to 1000')"
      ]
    },
    {
      "cell_type": "markdown",
      "metadata": {
        "id": "Y0gTJKQtVYnE"
      },
      "source": [
        "2. Write a Python code to iterate the first 10 numbers, and in each iteration, print the sum of the current and previous number"
      ]
    },
    {
      "cell_type": "code",
      "execution_count": 6,
      "metadata": {
        "id": "qgV531ONVkXk"
      },
      "outputs": [],
      "source": [
        "def sum():\n",
        " num=0\n",
        "total=0\n",
        "count=0\n",
        "while num<=10:\n",
        " count+=1\n",
        "num+=count\n",
        "total+=total\n",
        "sum()\n",
        " \n",
        "\n",
        "   "
      ]
    },
    {
      "cell_type": "markdown",
      "metadata": {
        "id": "GoMZHn8gVoLm"
      },
      "source": [
        "3. Write a code to return True if the list’s first and last numbers are the same. If the numbers are different, return False."
      ]
    },
    {
      "cell_type": "code",
      "execution_count": null,
      "metadata": {
        "id": "f7rhwnS_Wqn4"
      },
      "outputs": [
        {
          "name": "stdout",
          "output_type": "stream",
          "text": [
            "[1, 2, 3, 4, 5, 6, 6, 6, 4, 5, 6, 1]\n",
            "True\n"
          ]
        }
      ],
      "source": [
        "list=[1,2,3,4,5,6,6,6,4,5,6,1]\n",
        "print(list)\n",
        "if list[0]==list[-1]:\n",
        "    print('True')\n",
        "else:\n",
        "    print(\"false\")\n"
      ]
    },
    {
      "cell_type": "markdown",
      "metadata": {
        "id": "Y0d2vocIWwAr"
      },
      "source": [
        "4. Write a Python code to check if the given number is palindrome. A palindrome number is a number that is the same after reverse. For example, 545 is the palindrome number."
      ]
    },
    {
      "cell_type": "code",
      "execution_count": null,
      "metadata": {
        "id": "IN444hOXWyYw"
      },
      "outputs": [
        {
          "name": "stdout",
          "output_type": "stream",
          "text": [
            "1551 is a palindrome\n"
          ]
        }
      ],
      "source": [
        "def is_palindrome(m):\n",
        "   return str(m)==str(m)[::-1]\n",
        "num=int(input('Enter a number: '))\n",
        "if is_palindrome(num):\n",
        "   print(f\"{num} is a palindrome\")\n",
        "else:\n",
        "   print(f\"{num} is not a palindrom\")\n",
        "\n"
      ]
    },
    {
      "cell_type": "markdown",
      "metadata": {
        "id": "QDoEwQceXREg"
      },
      "source": [
        "5. Write a program to create a function show_employee() using the following conditions.\n",
        "\n",
        "* It should accept the employee’s name and salary\n",
        "and display both.\n",
        "* If the salary is missing in the function call then assign default value 9000 to salary"
      ]
    },
    {
      "cell_type": "code",
      "execution_count": null,
      "metadata": {
        "id": "kPJWPIKBX42A"
      },
      "outputs": [
        {
          "name": "stdout",
          "output_type": "stream",
          "text": [
            "Gam your salary is 9000\n"
          ]
        }
      ],
      "source": [
        "def show_employee(name,salary=9000):\n",
        " print(f\"{name} your salary is {salary}\")\n",
        "show_employee(\"Gam\")\n",
        "   \n",
        "\n",
        "\n"
      ]
    },
    {
      "cell_type": "markdown",
      "metadata": {
        "id": "935vjcrUX5bz"
      },
      "source": [
        "6. Below are the two lists. Write a Python program to convert them into a dictionary in a way that item from list1 is the key and item from list2 is the value\n",
        "\n",
        "**keys** = ['Ten', 'Twenty', 'Thirty']\n",
        "\n",
        "**values** = [10, 20, 30]"
      ]
    },
    {
      "cell_type": "code",
      "execution_count": null,
      "metadata": {
        "id": "8d8gdDatYfII"
      },
      "outputs": [
        {
          "name": "stdout",
          "output_type": "stream",
          "text": [
            "['ten', 'twenty', 'thirty'] [10, 20, 30]\n",
            "{'ten': 10, 'twenty': 20, 'thirty': 30}\n"
          ]
        }
      ],
      "source": [
        "keys=['ten','twenty','thirty']\n",
        "values=[10,20,30]\n",
        "print(keys,values)\n",
        "dictionary=dict(zip(keys,values))\n",
        "print(dictionary)\n",
        "\n"
      ]
    },
    {
      "cell_type": "markdown",
      "metadata": {
        "id": "5iOpTgm6Yfsh"
      },
      "source": [
        "7. Print the value of key ‘history’ from the below dict\n",
        "\n",
        "sampleDict = {\n",
        "  \n",
        "    \"class\": {\n",
        "        \"student\": {\n",
        "            \"name\": \"Mike\",\n",
        "            \"marks\": {\n",
        "                \"physics\": 70,\n",
        "                \"history\": 80\n",
        "            }\n",
        "        }\n",
        "    }\n",
        "}"
      ]
    },
    {
      "cell_type": "code",
      "execution_count": null,
      "metadata": {
        "id": "obsnarCwYvHU"
      },
      "outputs": [
        {
          "data": {
            "text/plain": [
              "80"
            ]
          },
          "execution_count": 3,
          "metadata": {},
          "output_type": "execute_result"
        }
      ],
      "source": [
        "sampleDict={\n",
        "    'class':{\n",
        "        'student':{\n",
        "            'name': 'mike',\n",
        "            'marks':{\n",
        "                'physics':70,\n",
        "                'history':80\n",
        "            }\n",
        "        }\n",
        "    }\n",
        "}\n",
        "sampleDict['class']['student']['marks']['history']\n"
      ]
    },
    {
      "cell_type": "markdown",
      "metadata": {
        "id": "6OElkDwlYvib"
      },
      "source": [
        "8. We know how to check if the key exists in a dictionary. Sometimes it is required to check if the given value is present.\n",
        "\n",
        "Write a Python program to check if value 200 exists in the following dictionary.\n",
        "\n",
        "**sample_dict** = {'a': 100, 'b': 200, 'c': 300}"
      ]
    },
    {
      "cell_type": "code",
      "execution_count": null,
      "metadata": {},
      "outputs": [
        {
          "name": "stdout",
          "output_type": "stream",
          "text": [
            "200 is in sample dict\n"
          ]
        }
      ],
      "source": [
        "sample_dict={'a':100,'b':200,'c':300}\n",
        "if 200 in sample_dict.values():\n",
        "    print('200 is in sample dict')\n",
        "else:\n",
        "    print('200 is not in sample_dict')\n",
        "\n"
      ]
    },
    {
      "cell_type": "markdown",
      "metadata": {
        "id": "_xantuMiZS8j"
      },
      "source": [
        "9. Get the key of a minimum value from the following dictionary\n",
        "\n",
        "sample_dict = {\n",
        "\n",
        "  'Physics': 82,\n",
        "\n",
        "  'Math': 65,\n",
        "\n",
        "  'history': 75\n",
        "\n",
        "}\n",
        "\n",
        "Expected Output : Math"
      ]
    },
    {
      "cell_type": "code",
      "execution_count": 11,
      "metadata": {
        "id": "YfJlgFP7abZj"
      },
      "outputs": [
        {
          "name": "stdout",
          "output_type": "stream",
          "text": [
            "maths\n"
          ]
        }
      ],
      "source": [
        "sample_dict={\n",
        "    'physics':82,\n",
        "    'maths':65,\n",
        "    'history':75\n",
        "}\n",
        "min_key=min(sample_dict,key=sample_dict.get)\n",
        "print(min_key)\n"
      ]
    },
    {
      "cell_type": "markdown",
      "metadata": {
        "id": "dH-XkOv5abxY"
      },
      "source": [
        "10. Swap two tuples in Python\n",
        "\n",
        "tuple1 = (11, 22)\n",
        "\n",
        "tuple2 = (99, 88)\n",
        "\n",
        "**Expected Output**:"
      ]
    },
    {
      "cell_type": "code",
      "execution_count": null,
      "metadata": {
        "id": "mWtYghaZbAmB"
      },
      "outputs": [
        {
          "name": "stdout",
          "output_type": "stream",
          "text": [
            " tuple1: (99, 88)\n",
            "tuple2: (11, 22)\n"
          ]
        }
      ],
      "source": [
        "tuple1=(11,22)\n",
        "tuple2=(99,88)\n",
        "tuple1,tuple2=tuple2,tuple1\n",
        "print(f\" tuple1: {tuple1}\")\n",
        "print(f\"tuple2: {tuple2}\")"
      ]
    },
    {
      "cell_type": "markdown",
      "metadata": {
        "id": "Ik6DDynebA5K"
      },
      "source": [
        "11. Write a program to copy elements 44 and 55 from the following tuple into a new tuple.\n",
        "\n",
        "**Given**:\n",
        "\n",
        "tuple1 = (11, 22, 33, 44, 55, 66)\n",
        "\n",
        "**Expected output**:\n",
        "\n",
        "tuple2: (44, 55)"
      ]
    },
    {
      "cell_type": "code",
      "execution_count": null,
      "metadata": {
        "id": "Tn_RPptrbaHL"
      },
      "outputs": [
        {
          "name": "stdout",
          "output_type": "stream",
          "text": [
            "tuple2: (44, 55)\n"
          ]
        }
      ],
      "source": [
        "tuple1=(11,22,33,44,55,66)\n",
        "tuple2=tuple1[3],tuple1[4]\n",
        "print(f\"tuple2: {tuple2}\")\n"
      ]
    },
    {
      "cell_type": "markdown",
      "metadata": {
        "id": "yg415cElba8k"
      },
      "source": [
        "12. Counts the number of occurrences of item 50 from a tuple\n",
        "\n",
        "**Given:**\n",
        "\n",
        "tuple1 = (50, 10, 60, 70, 50)\n",
        "\n",
        "**Expected output:**\n",
        "\n",
        "2"
      ]
    },
    {
      "cell_type": "code",
      "execution_count": null,
      "metadata": {
        "id": "9tzACjxubydm"
      },
      "outputs": [
        {
          "name": "stdout",
          "output_type": "stream",
          "text": [
            "2\n"
          ]
        }
      ],
      "source": [
        "tuple1=(50,10,60,70,50)\n",
        "print(tuple1.count(50))"
      ]
    },
    {
      "cell_type": "markdown",
      "metadata": {
        "id": "3QJFTbSAbyxW"
      },
      "source": [
        "13. You have given a Python list. Write a program to find value 20 in the list, and if it is present, replace it with 200. Only update the first occurrence of an item.\n",
        "\n",
        "**Given**:\n",
        "\n",
        "list1 = [5, 10, 15, 20, 25, 50, 20]\n",
        "\n",
        "**Expected output**:\n",
        "\n",
        "[5, 10, 15, 200, 25, 50, 20]"
      ]
    },
    {
      "cell_type": "code",
      "execution_count": null,
      "metadata": {
        "id": "P_VaJhM8cOeX"
      },
      "outputs": [
        {
          "name": "stdout",
          "output_type": "stream",
          "text": [
            "[5, 10, 15, 200, 25, 50, 200]\n"
          ]
        }
      ],
      "source": [
        "def my_list(list1):\n",
        "  list1=[5,10,15,20,25,50,20]\n",
        "if 20 in list1:\n",
        "    list1[list1.index(20)]=200\n",
        "    print(list1)\n",
        "\n",
        " \n",
        "    \n",
        "\n"
      ]
    },
    {
      "cell_type": "markdown",
      "metadata": {
        "id": "meBXkcpTcOwI"
      },
      "source": [
        "14. Remove all occurrences of a specific item from a list.\n",
        "Given a Python list, write a program to remove all occurrences of item 20.\n",
        "\n",
        "**Given**:\n",
        "\n",
        "list1 = [5, 20, 15, 20, 25, 50, 20]\n",
        "\n",
        "**Expected output**:\n",
        "\n",
        "[5, 15, 25, 50]"
      ]
    },
    {
      "cell_type": "code",
      "execution_count": 16,
      "metadata": {
        "id": "JeYZT49VcP25"
      },
      "outputs": [
        {
          "name": "stdout",
          "output_type": "stream",
          "text": [
            "[5, 15, 20, 25, 50, 20]\n",
            "[5, 15, 25, 50, 20]\n",
            "[5, 15, 25, 50]\n"
          ]
        }
      ],
      "source": [
        "\n",
        "list1=[5,20,15,20,25,50,20]\n",
        "while 20 in list1:\n",
        "    list1.remove(20)\n",
        "    print(list1)\n"
      ]
    },
    {
      "cell_type": "markdown",
      "metadata": {
        "id": "dtNffX5Vcg4c"
      },
      "source": [
        "15. Given two Python sets, write a Python program to update the first set with items that exist only in the first set and not in the second set.\n",
        "\n",
        "**Given**:\n",
        "\n",
        "set1 = {10, 20, 30}\n",
        "set2 = {20, 40, 50}\n",
        "\n",
        "**Expected output**:\n",
        "\n",
        "set1 = {10, 30}"
      ]
    },
    {
      "cell_type": "code",
      "execution_count": null,
      "metadata": {
        "id": "K5RqosUFdBHN"
      },
      "outputs": [
        {
          "name": "stdout",
          "output_type": "stream",
          "text": [
            "set1= {10, 30}\n"
          ]
        }
      ],
      "source": [
        "set1={10,20,30}\n",
        "set2={20,40,50}\n",
        "set1=set1-set2\n",
        "print(f\"set1= {set1}\")\n",
        "  \n"
      ]
    },
    {
      "cell_type": "markdown",
      "metadata": {
        "id": "_cKgvWiqdBm4"
      },
      "source": [
        "16. Display Fibonacci series up to 10 terms\n",
        "Have you ever wondered about the Fibonacci Sequence? It’s a series of numbers in which the next number is found by adding up the two numbers before it. The first two numbers are 0 and 1.\n",
        "\n",
        "For example, 0, 1, 1, 2, 3, 5, 8, 13, 21. The next number in this series is 13 + 21 = 34.\n",
        "\n",
        "**Expected output**:\n",
        "\n",
        "Fibonacci sequence:\n",
        "0  1  1  2  3  5  8  13  21  34"
      ]
    },
    {
      "cell_type": "code",
      "execution_count": null,
      "metadata": {
        "id": "B4a9Iuctd_t1"
      },
      "outputs": [
        {
          "name": "stdout",
          "output_type": "stream",
          "text": [
            "0 1 1 2 3 5 8 13 21 34 "
          ]
        }
      ],
      "source": [
        "a,b=0,1\n",
        "for i in range(10):\n",
        "  print(a,end=\" \")\n",
        "  a, b = b, a+b\n"
      ]
    },
    {
      "cell_type": "markdown",
      "metadata": {
        "id": "-c14xflNeAA5"
      },
      "source": [
        "17. Write a function that takes a nested dictionary of students' scores and returns the student with the highest average score.\n",
        "\n",
        "**Example input**:\n",
        "\n",
        "students = {\n",
        "\n",
        "    \"Alice\": {\"Math\": 85, \"English\": 92, \"Science\": 88},\n",
        "    \"Bob\": {\"Math\": 78, \"English\": 81, \"Science\": 85},\n",
        "    \"Charlie\": {\"Math\": 95, \"English\": 89, \"Science\": 94},\n",
        "}\n",
        "\n",
        "**Expected output**:\n",
        "\n",
        "Output: \"Charlie\"\n"
      ]
    },
    {
      "cell_type": "code",
      "execution_count": 22,
      "metadata": {
        "id": "Bb52flV_fptG"
      },
      "outputs": [
        {
          "ename": "TypeError",
          "evalue": "sum() takes 0 positional arguments but 1 was given",
          "output_type": "error",
          "traceback": [
            "\u001b[1;31m---------------------------------------------------------------------------\u001b[0m",
            "\u001b[1;31mTypeError\u001b[0m                                 Traceback (most recent call last)",
            "Cell \u001b[1;32mIn[22], line 17\u001b[0m\n\u001b[0;32m     11\u001b[0m     \u001b[38;5;28;01mreturn\u001b[39;00m top_student\n\u001b[0;32m     12\u001b[0m students \u001b[38;5;241m=\u001b[39m {\n\u001b[0;32m     13\u001b[0m     \u001b[38;5;124m\"\u001b[39m\u001b[38;5;124mAlice\u001b[39m\u001b[38;5;124m\"\u001b[39m: {\u001b[38;5;124m\"\u001b[39m\u001b[38;5;124mMath\u001b[39m\u001b[38;5;124m\"\u001b[39m: \u001b[38;5;241m85\u001b[39m, \u001b[38;5;124m\"\u001b[39m\u001b[38;5;124mEnglish\u001b[39m\u001b[38;5;124m\"\u001b[39m: \u001b[38;5;241m92\u001b[39m, \u001b[38;5;124m\"\u001b[39m\u001b[38;5;124mScience\u001b[39m\u001b[38;5;124m\"\u001b[39m: \u001b[38;5;241m88\u001b[39m},\n\u001b[0;32m     14\u001b[0m     \u001b[38;5;124m\"\u001b[39m\u001b[38;5;124mBob\u001b[39m\u001b[38;5;124m\"\u001b[39m: {\u001b[38;5;124m\"\u001b[39m\u001b[38;5;124mMath\u001b[39m\u001b[38;5;124m\"\u001b[39m: \u001b[38;5;241m78\u001b[39m, \u001b[38;5;124m\"\u001b[39m\u001b[38;5;124mEnglish\u001b[39m\u001b[38;5;124m\"\u001b[39m: \u001b[38;5;241m81\u001b[39m, \u001b[38;5;124m\"\u001b[39m\u001b[38;5;124mScience\u001b[39m\u001b[38;5;124m\"\u001b[39m: \u001b[38;5;241m85\u001b[39m},\n\u001b[0;32m     15\u001b[0m     \u001b[38;5;124m\"\u001b[39m\u001b[38;5;124mCharlie\u001b[39m\u001b[38;5;124m\"\u001b[39m: {\u001b[38;5;124m\"\u001b[39m\u001b[38;5;124mMath\u001b[39m\u001b[38;5;124m\"\u001b[39m: \u001b[38;5;241m95\u001b[39m, \u001b[38;5;124m\"\u001b[39m\u001b[38;5;124mEnglish\u001b[39m\u001b[38;5;124m\"\u001b[39m: \u001b[38;5;241m89\u001b[39m, \u001b[38;5;124m\"\u001b[39m\u001b[38;5;124mScience\u001b[39m\u001b[38;5;124m\"\u001b[39m: \u001b[38;5;241m94\u001b[39m},\n\u001b[0;32m     16\u001b[0m }\n\u001b[1;32m---> 17\u001b[0m \u001b[38;5;28mprint\u001b[39m(\u001b[43mhighest_average_student\u001b[49m\u001b[43m(\u001b[49m\u001b[43mstudents\u001b[49m\u001b[43m)\u001b[49m)  \u001b[38;5;66;03m# Output: \"Charlie\"\u001b[39;00m\n",
            "Cell \u001b[1;32mIn[22], line 6\u001b[0m, in \u001b[0;36mhighest_average_student\u001b[1;34m(students)\u001b[0m\n\u001b[0;32m      3\u001b[0m top_student \u001b[38;5;241m=\u001b[39m\u001b[38;5;124m\"\u001b[39m\u001b[38;5;124m\"\u001b[39m\n\u001b[0;32m      5\u001b[0m \u001b[38;5;28;01mfor\u001b[39;00m student, subjects \u001b[38;5;129;01min\u001b[39;00m students\u001b[38;5;241m.\u001b[39mitems():\n\u001b[1;32m----> 6\u001b[0m     average_score \u001b[38;5;241m=\u001b[39m \u001b[38;5;28;43msum\u001b[39;49m\u001b[43m(\u001b[49m\u001b[43msubjects\u001b[49m\u001b[38;5;241;43m.\u001b[39;49m\u001b[43mvalues\u001b[49m\u001b[43m(\u001b[49m\u001b[43m)\u001b[49m\u001b[43m)\u001b[49m \u001b[38;5;241m/\u001b[39m \u001b[38;5;28mlen\u001b[39m(subjects)\n\u001b[0;32m      7\u001b[0m     \u001b[38;5;28;01mif\u001b[39;00m average_score \u001b[38;5;241m>\u001b[39m highest_avg:\n\u001b[0;32m      8\u001b[0m         highest_avg \u001b[38;5;241m=\u001b[39m average_score\n",
            "\u001b[1;31mTypeError\u001b[0m: sum() takes 0 positional arguments but 1 was given"
          ]
        }
      ],
      "source": [
        "def highest_average_student(students):\n",
        "    highest_avg = 0\n",
        "    top_student =\"\"\n",
        "    \n",
        "    for student, subjects in students.items():\n",
        "        average_score = sum(subjects.values()) / len(subjects)\n",
        "        if average_score > highest_avg:\n",
        "            highest_avg = average_score\n",
        "            top_student = student\n",
        "    \n",
        "    return top_student\n",
        "students = {\n",
        "    \"Alice\": {\"Math\": 85, \"English\": 92, \"Science\": 88},\n",
        "    \"Bob\": {\"Math\": 78, \"English\": 81, \"Science\": 85},\n",
        "    \"Charlie\": {\"Math\": 95, \"English\": 89, \"Science\": 94},\n",
        "}\n",
        "print(highest_average_student(students))  # Output: \"Charlie\"\n"
      ]
    },
    {
      "cell_type": "markdown",
      "metadata": {
        "id": "CdqSx9ZLfpM6"
      },
      "source": [
        "18. Write a function that takes a string and returns a dictionary with the frequency of each word.\n",
        "\n",
        "**Example**:\n",
        "\n",
        "word_frequency= (\"hello world hello Python world\")\n",
        "\n",
        "**Output**: {\"hello\": 2, \"world\": 2, \"Python\": 1}\n",
        "\n"
      ]
    },
    {
      "cell_type": "code",
      "execution_count": null,
      "metadata": {
        "id": "SIy5j8MFgSzk"
      },
      "outputs": [
        {
          "name": "stdout",
          "output_type": "stream",
          "text": [
            "Counter({'hello': 2, 'world': 2, 'Python': 1})\n"
          ]
        }
      ],
      "source": [
        "def word_frequency(string):\n",
        "    words = string.split()\n",
        "    return Counter(words)\n",
        "text = \"hello world hello Python world\"\n",
        "print(word_frequency(text)) \n"
      ]
    },
    {
      "cell_type": "markdown",
      "metadata": {
        "id": "dU1sJ1DmgTIf"
      },
      "source": [
        "19. Write a function that finds the second largest number in a list.\n",
        "\n",
        "**Example**:\n",
        "\n",
        "second_largest= [3, 5, 7, 1, 4]\n",
        "\n",
        "**Output**: 5\n"
      ]
    },
    {
      "cell_type": "code",
      "execution_count": null,
      "metadata": {
        "id": "iONmkEYYgsFP"
      },
      "outputs": [
        {
          "name": "stdout",
          "output_type": "stream",
          "text": [
            "second_largest= 5\n"
          ]
        }
      ],
      "source": [
        "second_largest=[3,5,7,1,4]\n",
        "second_largest.sort()\n",
        "print(f\"second_largest= {second_largest[-2]}\")"
      ]
    },
    {
      "cell_type": "markdown",
      "metadata": {
        "id": "CQrhT8hGgsdm"
      },
      "source": [
        "20. Write a function that sorts a list of strings by their length in ascending order.\n",
        "\n",
        "sort_by_length= [\"Python\", \"is\", \"fun\"]\n",
        "\n",
        "**Output**: [\"is\", \"fun\", \"Python\"]\n"
      ]
    },
    {
      "cell_type": "code",
      "execution_count": null,
      "metadata": {
        "id": "VcS-w_-hg8zV"
      },
      "outputs": [
        {
          "name": "stdout",
          "output_type": "stream",
          "text": [
            "['is', 'fun', 'python']\n"
          ]
        }
      ],
      "source": [
        "sort_by_length=[\"python\",\"is\",\"fun\"]\n",
        "sort_by_length.sort(key=len)\n",
        "print(sort_by_length)\n"
      ]
    },
    {
      "cell_type": "markdown",
      "metadata": {
        "id": "DUNQdfn3g9GT"
      },
      "source": [
        "**Bonus 1**:\n",
        "You are tasked with creating a program that tracks students’ grades and calculates their final scores and grades. The program should perform the following:\n",
        "\n",
        "**Input Student Data**:\n",
        "\n",
        "Create a function to take input for multiple students, where each student has:\n",
        "\n",
        "Name (string)\n",
        "\n",
        "ID (integer)\n",
        "\n",
        "Grades in 3 subjects (a list of floats)\n",
        "\n",
        "**Calculate Final Score**:\n",
        "\n",
        "Create a function that calculates the final score for each student. The final score is the average of their grades in the 3 subjects.\n",
        "\n",
        "**Assign Grades**:\n",
        "\n",
        "Create another function that assigns a grade based on the final score:\n",
        "\n",
        "A for scores >= 90\n",
        "\n",
        "B for scores >= 80 and < 90\n",
        "\n",
        "C for scores >= 70 and < 80\n",
        "\n",
        "D for scores >= 60 and < 70\n",
        "\n",
        "F for scores < 60\n",
        "\n",
        "**Output Summary**:\n",
        "\n",
        "Use a loop to display a summary of all students, including:\n",
        "\n",
        "Name\n",
        "\n",
        "ID\n",
        "\n",
        "Final Score\n",
        "\n",
        "Grade\n",
        "\n",
        "**Bonus Challenge**:\n",
        "\n",
        "Add a function to find the top student (the one with the highest final score)."
      ]
    },
    {
      "cell_type": "code",
      "execution_count": null,
      "metadata": {
        "id": "21AvMKc4iKUw"
      },
      "outputs": [
        {
          "name": "stdout",
          "output_type": "stream",
          "text": [
            "\n"
          ]
        }
      ],
      "source": [
        "def input_student_data():\n",
        "    students = []\n",
        "    num_students = int(input(\"Enter the number of students: \"))\n",
        "    for _ in range(num_students):\n",
        "        name = input(\"Enter the student's name: \")\n",
        "        student_id = int(input(\"Enter the student's ID: \"))\n",
        "        grades = list(map(float, input(\"Enter the student's grades for 3 subjects separated by space: \").split()))\n",
        "        students.append((name, student_id, grades))\n",
        "    return students\n",
        "\n",
        "def calculate_final_score(students):\n",
        "    final_scores = []\n",
        "    for student in students:\n",
        "        final_score = sum(student[2]) / len(student[2])\n",
        "        final_scores.append((student[0], student[1], final_score))\n",
        "    return final_scores\n",
        "\n",
        "def assign_grades(final_scores):\n",
        "    grades = []\n",
        "    for student in final_scores:\n",
        "        if student[2] >= 90:\n",
        "            grade = 'A'\n",
        "        elif student[2] >= 80:\n",
        "            grade = 'B'\n",
        "        elif student[2] >= 70:\n",
        "            grade = 'C'\n",
        "        elif student[2] >= 60:\n",
        "            grade = 'D'\n",
        "        else:\n",
        "            grade = 'F'\n",
        "        grades.append((student[0], student[1], student[2], grade))\n",
        "    return grades\n",
        "\n",
        "def output_summary(grades):\n",
        "    for student in grades:\n",
        "        print(f\"Name: {student[0]}, ID: {student[1]}, Final Score: {student[2]:.2f}, Grade: {student[3]}\")\n",
        "\n",
        "def find_top_student(grades):\n",
        "    top_student = max(grades, key=lambda student: student[2])\n",
        "    return top_student\n",
        "\n",
        "def main():\n",
        "    students = input_student_data()\n",
        "    final_scores = calculate_final_score(students)\n",
        "    grades = assign_grades(final_scores)\n",
        "    output_summary(grades)\n",
        "    top_student = find_top_student(grades)\n",
        "    print(f\"\\nTop Student: {top_student[0]}, ID: {top_student[1]}, Final Score: {top_student[2]:.2f}, Grade: {top_student[3]}\")\n",
        "\n",
        "if __name__ == \"__main__\":\n",
        "    main()\n"
      ]
    },
    {
      "cell_type": "markdown",
      "metadata": {
        "id": "EMkF7300iKoa"
      },
      "source": [
        "**Bonus 2**: You need to design a Library Management System for a small library. The system should perform the following tasks:\n",
        "\n",
        "**Add New Books**:\n",
        "\n",
        "Create a function that allows the librarian to add new books to the system.\n",
        "Each book should have:\n",
        "\n",
        "Title (string)\n",
        "\n",
        "Author (string)\n",
        "\n",
        "ISBN (string)\n",
        "\n",
        "Total Copies (integer)\n",
        "\n",
        "**Borrow a Book**:\n",
        "\n",
        "Create a function that allows a user to borrow a book by its ISBN.\n",
        "If the book is not available or all copies are borrowed, display an appropriate message.\n",
        "Keep track of borrowed books using a dictionary with:\n",
        "\n",
        "Key: ISBN\n",
        "\n",
        "Value: Number of borrowed copies.\n",
        "\n",
        "**Return a Book**:\n",
        "\n",
        "Create a function that allows a user to return a borrowed book.\n",
        "Ensure the system updates the borrowed books record properly.\n",
        "\n",
        "**Display Available Books**:\n",
        "\n",
        "Create a function that displays all available books along with their title, author, ISBN, and the number of copies currently available.\n",
        "\n",
        "**Search for a Book**:\n",
        "\n",
        "Create a function that searches for books by:\n",
        "Title\n",
        "\n",
        "Author\n",
        "\n",
        "Return all matching results.\n",
        "\n",
        "**Bonus Challenge** :\n",
        "\n",
        "Add a feature to track which user borrowed which book. For example:\n",
        "Create a users dictionary where:\n",
        "\n",
        "Key: User ID\n",
        "\n",
        "Value: List of borrowed book ISBNs."
      ]
    },
    {
      "cell_type": "code",
      "execution_count": 2,
      "metadata": {
        "id": "ZqMQ6faGjhJt"
      },
      "outputs": [
        {
          "name": "stdout",
          "output_type": "stream",
          "text": [
            "You have successfully borrowed The Great Gatsby.\n",
            "You have successfully borrowed 1984.\n",
            "Title: The Great Gatsby, Author: F. Scott Fitzgerald, ISBN: 123456789, Available Copies: 4\n",
            "Title: 1984, Author: George Orwell, ISBN: 987654321, Available Copies: 2\n",
            "You have successfully returned The Great Gatsby.\n",
            "Title: The Great Gatsby, Author: F. Scott Fitzgerald, ISBN: 123456789, Available Copies: 5\n",
            "Title: 1984, Author: George Orwell, ISBN: 987654321, Available Copies: 2\n",
            "{'title': '1984', 'author': 'George Orwell', 'total_copies': 3, 'available_copies': 2}\n"
          ]
        }
      ],
      "source": [
        "\n",
        "\n",
        "def add_book(title, author, isbn, total_copies):\n",
        "    books[isbn] = {\n",
        "        'title': title,\n",
        "        'author': author,\n",
        "        'total_copies': total_copies,\n",
        "        'available_copies': total_copies\n",
        "  }\n",
        "books ={}\n",
        "borrowed_books = {}\n",
        "users = {}\n",
        "\n",
        "def borrow_book(user_id, isbn):\n",
        "    if isbn not in books:\n",
        "        return \"This book does not exist in the library.\"\n",
        "    if books[isbn]['available_copies'] == 0:\n",
        "        return \"All copies are currently borrowed.\"\n",
        "    \n",
        "    books[isbn]['available_copies'] -= 1\n",
        "    if isbn in borrowed_books:\n",
        "        borrowed_books[isbn] += 1\n",
        "    else:\n",
        "        borrowed_books[isbn] = 1\n",
        "    \n",
        "    if user_id in users:\n",
        "        users[user_id].append(isbn)\n",
        "    else:\n",
        "        users[user_id] = [isbn]\n",
        "    \n",
        "    return f\"You have successfully borrowed {books[isbn]['title']}.\"\n",
        "\n",
        "def return_book(user_id, isbn):\n",
        "    if user_id not in users or isbn not in users[user_id]:\n",
        "        return \"This user did not borrow this book.\"\n",
        "\n",
        "    books[isbn]['available_copies'] += 1\n",
        "    borrowed_books[isbn] -= 1\n",
        "\n",
        "    if borrowed_books[isbn] == 0:\n",
        "        del borrowed_books[isbn]\n",
        "\n",
        "    users[user_id].remove(isbn)\n",
        "    if not users[user_id]:\n",
        "        del users[user_id]\n",
        "    \n",
        "    return f\"You have successfully returned {books[isbn]['title']}.\"\n",
        "\n",
        "def display_books():\n",
        "    for isbn, details in books.items():\n",
        "        print(f\"Title: {details['title']}, Author: {details['author']}, ISBN: {isbn}, Available Copies: {details['available_copies']}\")\n",
        "\n",
        "def search_books(search_by, search_value):\n",
        "    results = []\n",
        "    for isbn, details in books.items():\n",
        "        if search_by == 'title' and search_value.lower() in details['title'].lower():\n",
        "            results.append(details)\n",
        "        elif search_by == 'author' and search_value.lower() in details['author'].lower():\n",
        "            results.append(details)\n",
        "\n",
        "    return results\n",
        "\n",
        "# Example Usage\n",
        "add_book(\"The Great Gatsby\", \"F. Scott Fitzgerald\", \"123456789\", 5)\n",
        "add_book(\"1984\", \"George Orwell\", \"987654321\", 3)\n",
        "\n",
        "print(borrow_book(\"user1\", \"123456789\"))\n",
        "print(borrow_book(\"user2\", \"987654321\"))\n",
        "\n",
        "display_books()\n",
        "\n",
        "print(return_book(\"user1\", \"123456789\"))\n",
        "\n",
        "display_books()\n",
        "\n",
        "results = search_books(\"author\", \"Orwell\")\n",
        "for book in results:\n",
        "    print(book)\n"
      ]
    }
  ],
  "metadata": {
    "colab": {
      "provenance": []
    },
    "kernelspec": {
      "display_name": "Python 3",
      "name": "python3"
    },
    "language_info": {
      "codemirror_mode": {
        "name": "ipython",
        "version": 3
      },
      "file_extension": ".py",
      "mimetype": "text/x-python",
      "name": "python",
      "nbconvert_exporter": "python",
      "pygments_lexer": "ipython3",
      "version": "3.13.2"
    }
  },
  "nbformat": 4,
  "nbformat_minor": 0
}
